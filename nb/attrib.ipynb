{
 "cells": [
  {
   "cell_type": "code",
   "id": "initial_id",
   "metadata": {
    "collapsed": true,
    "ExecuteTime": {
     "end_time": "2024-06-24T14:47:08.643488Z",
     "start_time": "2024-06-24T14:47:08.639917Z"
    }
   },
   "source": [
    "from pathlib import Path\n",
    "\n",
    "import geopandas as gpd\n",
    "from shapely import Point"
   ],
   "outputs": [],
   "execution_count": 13
  },
  {
   "metadata": {
    "ExecuteTime": {
     "end_time": "2024-06-24T14:47:09.156702Z",
     "start_time": "2024-06-24T14:47:09.092755Z"
    }
   },
   "cell_type": "code",
   "source": [
    "gdf = gpd.read_file(Path(\"~/elevation_data/index.gti.gpkg\"))\n",
    "gdf"
   ],
   "id": "54c5feea58598c4c",
   "outputs": [
    {
     "data": {
      "text/plain": [
       "                                                location  \\\n",
       "0      sources/cop90/S2_W13/Copernicus_DSM_COG_30_S21...   \n",
       "1      sources/cop90/S2_W13/Copernicus_DSM_COG_30_S24...   \n",
       "2      sources/cop90/S2_W13/Copernicus_DSM_COG_30_S23...   \n",
       "3      sources/cop90/S2_W13/Copernicus_DSM_COG_30_S22...   \n",
       "4      sources/cop90/S2_W13/Copernicus_DSM_COG_30_S22...   \n",
       "...                                                  ...   \n",
       "26567  sources/aw3d30_gb/N050E000_N055E005/ALPSMLC30_...   \n",
       "26568  sources/aw3d30_gb/N050E000_N055E005/ALPSMLC30_...   \n",
       "26569  sources/aw3d30_gb/N060W005_N065E000/ALPSMLC30_...   \n",
       "26570  sources/aw3d30_gb/N060W005_N065E000/ALPSMLC30_...   \n",
       "26571  sources/aw3d30_gb/N060W005_N065E000/ALPSMLC30_...   \n",
       "\n",
       "                                                geometry  \n",
       "0      POLYGON ((-139.00042 -19.99958, -138.00042 -19...  \n",
       "1      POLYGON ((-136.00042 -22.99958, -135.00042 -22...  \n",
       "2      POLYGON ((-137.00042 -21.99958, -136.00042 -21...  \n",
       "3      POLYGON ((-139.00042 -20.99958, -138.00042 -20...  \n",
       "4      POLYGON ((-136.00042 -20.99958, -135.00042 -20...  \n",
       "...                                                  ...  \n",
       "26567           POLYGON ((4 54, 5 54, 5 53, 4 53, 4 54))  \n",
       "26568           POLYGON ((1 52, 2 52, 2 51, 1 51, 1 52))  \n",
       "26569        POLYGON ((-1 61, 0 61, 0 60, -1 60, -1 61))  \n",
       "26570      POLYGON ((-3 61, -2 61, -2 60, -3 60, -3 61))  \n",
       "26571      POLYGON ((-2 61, -1 61, -1 60, -2 60, -2 61))  \n",
       "\n",
       "[26572 rows x 2 columns]"
      ],
      "text/html": [
       "<div>\n",
       "<style scoped>\n",
       "    .dataframe tbody tr th:only-of-type {\n",
       "        vertical-align: middle;\n",
       "    }\n",
       "\n",
       "    .dataframe tbody tr th {\n",
       "        vertical-align: top;\n",
       "    }\n",
       "\n",
       "    .dataframe thead th {\n",
       "        text-align: right;\n",
       "    }\n",
       "</style>\n",
       "<table border=\"1\" class=\"dataframe\">\n",
       "  <thead>\n",
       "    <tr style=\"text-align: right;\">\n",
       "      <th></th>\n",
       "      <th>location</th>\n",
       "      <th>geometry</th>\n",
       "    </tr>\n",
       "  </thead>\n",
       "  <tbody>\n",
       "    <tr>\n",
       "      <th>0</th>\n",
       "      <td>sources/cop90/S2_W13/Copernicus_DSM_COG_30_S21...</td>\n",
       "      <td>POLYGON ((-139.00042 -19.99958, -138.00042 -19...</td>\n",
       "    </tr>\n",
       "    <tr>\n",
       "      <th>1</th>\n",
       "      <td>sources/cop90/S2_W13/Copernicus_DSM_COG_30_S24...</td>\n",
       "      <td>POLYGON ((-136.00042 -22.99958, -135.00042 -22...</td>\n",
       "    </tr>\n",
       "    <tr>\n",
       "      <th>2</th>\n",
       "      <td>sources/cop90/S2_W13/Copernicus_DSM_COG_30_S23...</td>\n",
       "      <td>POLYGON ((-137.00042 -21.99958, -136.00042 -21...</td>\n",
       "    </tr>\n",
       "    <tr>\n",
       "      <th>3</th>\n",
       "      <td>sources/cop90/S2_W13/Copernicus_DSM_COG_30_S22...</td>\n",
       "      <td>POLYGON ((-139.00042 -20.99958, -138.00042 -20...</td>\n",
       "    </tr>\n",
       "    <tr>\n",
       "      <th>4</th>\n",
       "      <td>sources/cop90/S2_W13/Copernicus_DSM_COG_30_S22...</td>\n",
       "      <td>POLYGON ((-136.00042 -20.99958, -135.00042 -20...</td>\n",
       "    </tr>\n",
       "    <tr>\n",
       "      <th>...</th>\n",
       "      <td>...</td>\n",
       "      <td>...</td>\n",
       "    </tr>\n",
       "    <tr>\n",
       "      <th>26567</th>\n",
       "      <td>sources/aw3d30_gb/N050E000_N055E005/ALPSMLC30_...</td>\n",
       "      <td>POLYGON ((4 54, 5 54, 5 53, 4 53, 4 54))</td>\n",
       "    </tr>\n",
       "    <tr>\n",
       "      <th>26568</th>\n",
       "      <td>sources/aw3d30_gb/N050E000_N055E005/ALPSMLC30_...</td>\n",
       "      <td>POLYGON ((1 52, 2 52, 2 51, 1 51, 1 52))</td>\n",
       "    </tr>\n",
       "    <tr>\n",
       "      <th>26569</th>\n",
       "      <td>sources/aw3d30_gb/N060W005_N065E000/ALPSMLC30_...</td>\n",
       "      <td>POLYGON ((-1 61, 0 61, 0 60, -1 60, -1 61))</td>\n",
       "    </tr>\n",
       "    <tr>\n",
       "      <th>26570</th>\n",
       "      <td>sources/aw3d30_gb/N060W005_N065E000/ALPSMLC30_...</td>\n",
       "      <td>POLYGON ((-3 61, -2 61, -2 60, -3 60, -3 61))</td>\n",
       "    </tr>\n",
       "    <tr>\n",
       "      <th>26571</th>\n",
       "      <td>sources/aw3d30_gb/N060W005_N065E000/ALPSMLC30_...</td>\n",
       "      <td>POLYGON ((-2 61, -1 61, -1 60, -2 60, -2 61))</td>\n",
       "    </tr>\n",
       "  </tbody>\n",
       "</table>\n",
       "<p>26572 rows × 2 columns</p>\n",
       "</div>"
      ]
     },
     "execution_count": 14,
     "metadata": {},
     "output_type": "execute_result"
    }
   ],
   "execution_count": 14
  },
  {
   "metadata": {
    "ExecuteTime": {
     "end_time": "2024-06-24T14:49:46.840850Z",
     "start_time": "2024-06-24T14:49:46.834010Z"
    }
   },
   "cell_type": "code",
   "source": "points = gpd.GeoDataFrame(geometry=gpd.GeoSeries([Point(0, 51.4)]), crs=gdf.crs)",
   "id": "950e25cd2eb42ffc",
   "outputs": [],
   "execution_count": 25
  },
  {
   "metadata": {
    "ExecuteTime": {
     "end_time": "2024-06-24T14:49:56.949944Z",
     "start_time": "2024-06-24T14:49:56.939736Z"
    }
   },
   "cell_type": "code",
   "source": "gpd.sjoin(gdf, points, how=\"inner\", predicate=\"intersects\")",
   "id": "f4ef786066e7dc66",
   "outputs": [
    {
     "data": {
      "text/plain": [
       "                                                location  \\\n",
       "26338  sources/cop90/N5_E00/Copernicus_DSM_COG_30_N51...   \n",
       "26566  sources/aw3d30_gb/N050E000_N055E005/ALPSMLC30_...   \n",
       "\n",
       "                                                geometry  index_right  \n",
       "26338  POLYGON ((-0.00062 52.00042, 0.99938 52.00042,...            0  \n",
       "26566           POLYGON ((0 52, 1 52, 1 51, 0 51, 0 52))            0  "
      ],
      "text/html": [
       "<div>\n",
       "<style scoped>\n",
       "    .dataframe tbody tr th:only-of-type {\n",
       "        vertical-align: middle;\n",
       "    }\n",
       "\n",
       "    .dataframe tbody tr th {\n",
       "        vertical-align: top;\n",
       "    }\n",
       "\n",
       "    .dataframe thead th {\n",
       "        text-align: right;\n",
       "    }\n",
       "</style>\n",
       "<table border=\"1\" class=\"dataframe\">\n",
       "  <thead>\n",
       "    <tr style=\"text-align: right;\">\n",
       "      <th></th>\n",
       "      <th>location</th>\n",
       "      <th>geometry</th>\n",
       "      <th>index_right</th>\n",
       "    </tr>\n",
       "  </thead>\n",
       "  <tbody>\n",
       "    <tr>\n",
       "      <th>26338</th>\n",
       "      <td>sources/cop90/N5_E00/Copernicus_DSM_COG_30_N51...</td>\n",
       "      <td>POLYGON ((-0.00062 52.00042, 0.99938 52.00042,...</td>\n",
       "      <td>0</td>\n",
       "    </tr>\n",
       "    <tr>\n",
       "      <th>26566</th>\n",
       "      <td>sources/aw3d30_gb/N050E000_N055E005/ALPSMLC30_...</td>\n",
       "      <td>POLYGON ((0 52, 1 52, 1 51, 0 51, 0 52))</td>\n",
       "      <td>0</td>\n",
       "    </tr>\n",
       "  </tbody>\n",
       "</table>\n",
       "</div>"
      ]
     },
     "execution_count": 28,
     "metadata": {},
     "output_type": "execute_result"
    }
   ],
   "execution_count": 28
  },
  {
   "metadata": {
    "ExecuteTime": {
     "end_time": "2024-06-24T14:50:14.861519Z",
     "start_time": "2024-06-24T14:50:14.857248Z"
    }
   },
   "cell_type": "code",
   "source": "_[\"location\"]",
   "id": "edbad7fa06d21f41",
   "outputs": [
    {
     "data": {
      "text/plain": [
       "26338    sources/cop90/N5_E00/Copernicus_DSM_COG_30_N51...\n",
       "26566    sources/aw3d30_gb/N050E000_N055E005/ALPSMLC30_...\n",
       "Name: location, dtype: object"
      ]
     },
     "execution_count": 30,
     "metadata": {},
     "output_type": "execute_result"
    }
   ],
   "execution_count": 30
  },
  {
   "metadata": {},
   "cell_type": "code",
   "outputs": [],
   "execution_count": null,
   "source": "# TODO: Given a series of points pick the last location for each",
   "id": "93a3c5c0e89df4c3"
  }
 ],
 "metadata": {
  "kernelspec": {
   "display_name": "Python 3",
   "language": "python",
   "name": "python3"
  },
  "language_info": {
   "codemirror_mode": {
    "name": "ipython",
    "version": 2
   },
   "file_extension": ".py",
   "mimetype": "text/x-python",
   "name": "python",
   "nbconvert_exporter": "python",
   "pygments_lexer": "ipython2",
   "version": "2.7.6"
  }
 },
 "nbformat": 4,
 "nbformat_minor": 5
}
